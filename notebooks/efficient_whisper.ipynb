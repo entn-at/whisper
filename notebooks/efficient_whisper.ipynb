{
 "cells": [
  {
   "cell_type": "markdown",
   "id": "327184b6-d10f-4d26-ada1-f9d3c6f1ccba",
   "metadata": {},
   "source": [
    "# Create test data"
   ]
  },
  {
   "cell_type": "code",
   "execution_count": null,
   "id": "3be3b26c-c4f6-489f-bc32-f5c4f9fa9664",
   "metadata": {},
   "outputs": [],
   "source": [
    "import librosa\n",
    "from datasets import load_dataset\n",
    "\n",
    "\n",
    "common_voice = load_dataset(\"common_voice\", \"ja\")\n",
    "audio_data_list = [\n",
    "    librosa.resample(\n",
    "        common_voice['train'][i]['audio']['array'], orig_sr=48000, target_sr=16000\n",
    "    ) for i in range(10)]"
   ]
  },
  {
   "cell_type": "markdown",
   "id": "e8c00c8b-934f-4c75-92cb-f68d0d5ec638",
   "metadata": {},
   "source": [
    "# Official Whisper"
   ]
  },
  {
   "cell_type": "code",
   "execution_count": 2,
   "id": "2ef5d03e-d1c2-4125-9c63-07138556d610",
   "metadata": {},
   "outputs": [],
   "source": [
    "import whisper\n",
    "\n",
    "model = whisper.load_model(\"large\")"
   ]
  },
  {
   "cell_type": "code",
   "execution_count": 4,
   "id": "b3b84c56-f46e-4e25-82e7-41a0f2b9dd69",
   "metadata": {
    "scrolled": true,
    "tags": []
   },
   "outputs": [
    {
     "name": "stdout",
     "output_type": "stream",
     "text": [
      "[00:00.000 --> 00:30.000] 予想外の事態に電力会社がちょっぴり困惑切りだ\n",
      "[00:00.000 --> 00:30.000] 町域にあった峰山藩は長岡藩に米100票を送ったことで有名。\n",
      "[00:00.000 --> 00:30.000] 週末 友達と山に登ります\n",
      "[00:00.000 --> 00:30.000] 後で図書館へ本を返しに行きます。\n",
      "[00:00.000 --> 00:30.000] 55歳だって嬉しい時が嬉しいのだ\n",
      "[00:00.000 --> 00:30.000] 私はパンもご飯も好きです。\n",
      "[00:00.000 --> 00:30.000] デパートやスーパーで買い物をします\n",
      "[00:00.000 --> 00:30.000] 用紙に書いてある番号を覚えます。\n",
      "[00:00.000 --> 00:30.000] 明日 友達と 映画を 見に行きます。\n",
      "[00:00.000 --> 00:30.000] あの男の人は背が高くて足が長いです。\n",
      "CPU times: user 26.9 s, sys: 216 ms, total: 27.1 s\n",
      "Wall time: 13.6 s\n"
     ]
    }
   ],
   "source": [
    "%%time\n",
    "\n",
    "for audio_data in audio_data_list:\n",
    "    result = model.transcribe(\n",
    "        audio_data,\n",
    "        verbose=True,\n",
    "        language='japanese',\n",
    "        beam_size=5,\n",
    "        fp16=True,\n",
    "        without_timestamps=True\n",
    "    )"
   ]
  },
  {
   "cell_type": "markdown",
   "id": "ff0dbac2-c456-43cf-a58c-2d130c123f5e",
   "metadata": {},
   "source": [
    "# Official Whisper with model.half()"
   ]
  },
  {
   "cell_type": "markdown",
   "id": "04045816-ca87-444d-84e6-19bf3ef7bbab",
   "metadata": {},
   "source": [
    "### We will get a little faster and a large memory improvement (12G -> 6G)"
   ]
  },
  {
   "cell_type": "code",
   "execution_count": 2,
   "id": "6e902c8c-255f-46ce-9524-c1939812edb7",
   "metadata": {},
   "outputs": [],
   "source": [
    "import whisper\n",
    "\n",
    "\n",
    "model = whisper.load_model(\"large\", device=\"cpu\")\n",
    "_ = model.half()\n",
    "_ = model.cuda()\n",
    "\n",
    "# exception without following code\n",
    "# reason : model.py -> line 31 -> super().forward(x.float()).type(x.dtype)\n",
    "for m in model.modules():\n",
    "    if isinstance(m, whisper.model.LayerNorm):\n",
    "        m.float()"
   ]
  },
  {
   "cell_type": "code",
   "execution_count": 4,
   "id": "2516d80b-bd44-40b7-81db-9c00e94d570d",
   "metadata": {},
   "outputs": [
    {
     "name": "stdout",
     "output_type": "stream",
     "text": [
      "[00:00.000 --> 00:30.000] 予想外の事態に電力会社がちょっぴり困惑切りだ\n",
      "[00:00.000 --> 00:30.000] 町域にあった峰山藩は長岡藩に米100票を送ったことで有名。\n",
      "[00:00.000 --> 00:30.000] 週末 友達と山に登ります\n",
      "[00:00.000 --> 00:30.000] 後で図書館へ本を返しに行きます。\n",
      "[00:00.000 --> 00:30.000] 55歳だって嬉しい時が嬉しいのだ\n",
      "[00:00.000 --> 00:30.000] 私はパンもご飯も好きです。\n",
      "[00:00.000 --> 00:30.000] デパートやスーパーで買い物をします\n",
      "[00:00.000 --> 00:30.000] 用紙に書いてある番号を覚えます。\n",
      "[00:00.000 --> 00:30.000] 明日 友達と 映画を 見に行きます。\n",
      "[00:00.000 --> 00:30.000] あの男の人は背が高くて足が長いです。\n",
      "CPU times: user 25.1 s, sys: 130 ms, total: 25.3 s\n",
      "Wall time: 12.5 s\n"
     ]
    }
   ],
   "source": [
    "%%time\n",
    "\n",
    "for audio_data in audio_data_list:\n",
    "    result = model.transcribe(\n",
    "        audio_data,\n",
    "        verbose=True,\n",
    "        language='japanese',\n",
    "        beam_size=5,\n",
    "        fp16=True,\n",
    "        without_timestamps=True\n",
    "    )"
   ]
  },
  {
   "cell_type": "markdown",
   "id": "8148420d-8ee7-4762-9558-9364259b08b7",
   "metadata": {},
   "source": [
    "# Whisper with TorchScript"
   ]
  },
  {
   "cell_type": "code",
   "execution_count": 2,
   "id": "e7991148-03fd-42a0-ad89-50cf6bfbb163",
   "metadata": {},
   "outputs": [],
   "source": [
    "import torch\n",
    "import efficient_whisper as whisper"
   ]
  },
  {
   "cell_type": "code",
   "execution_count": 3,
   "id": "d1d14332-53b8-442e-a14c-f51b2f48032b",
   "metadata": {},
   "outputs": [],
   "source": [
    "model = whisper.load_model(\"large\", device=\"cpu\")\n",
    "model.encoder = torch.jit.script(model.encoder)\n",
    "model.decoder = torch.jit.script(model.decoder)\n",
    "_ = model.half()\n",
    "_ = model.cuda()"
   ]
  },
  {
   "cell_type": "code",
   "execution_count": 5,
   "id": "68fcc2f7-ffe7-47d9-9f3b-cadd0e7b50f0",
   "metadata": {},
   "outputs": [
    {
     "name": "stdout",
     "output_type": "stream",
     "text": [
      "[00:00.000 --> 00:30.000] 予想外の事態に電力会社がちょっぴり困惑切りだ\n",
      "[00:00.000 --> 00:30.000] 町域にあった峰山藩は長岡藩に米100票を送ったことで有名。\n",
      "[00:00.000 --> 00:30.000] 週末 友達と山に登ります\n",
      "[00:00.000 --> 00:30.000] 後で図書館へ本を返しに行きます。\n",
      "[00:00.000 --> 00:30.000] 55歳だって嬉しい時が嬉しいのだ\n",
      "[00:00.000 --> 00:30.000] 私はパンもご飯も好きです。\n",
      "[00:00.000 --> 00:30.000] デパートやスーパーで買い物をします\n",
      "[00:00.000 --> 00:30.000] 用紙に書いてある番号を覚えます。\n",
      "[00:00.000 --> 00:30.000] 明日 友達と 映画を 見に行きます。\n",
      "[00:00.000 --> 00:30.000] あの男の人は背が高くて足が長いです。\n",
      "CPU times: user 20.8 s, sys: 425 ms, total: 21.2 s\n",
      "Wall time: 8.59 s\n"
     ]
    }
   ],
   "source": [
    "%%time\n",
    "\n",
    "for audio_data in audio_data_list:\n",
    "    result = model.transcribe(\n",
    "        audio_data,\n",
    "        verbose=True,\n",
    "        language='japanese',\n",
    "        beam_size=5,\n",
    "        fp16=True,\n",
    "        without_timestamps=True\n",
    "    )"
   ]
  },
  {
   "cell_type": "markdown",
   "id": "517e19a2-834c-4f63-bfa4-67e4b00d9a48",
   "metadata": {},
   "source": [
    "# Whisper with TorchScript & pad_or_trim (30s -> 10s)"
   ]
  },
  {
   "cell_type": "markdown",
   "id": "5e217caf-bbd5-47a0-b9fe-02c182b28cb3",
   "metadata": {},
   "source": [
    "Fix `CHUNK_LENGTH` in audio.py: `30 -> 10`"
   ]
  },
  {
   "cell_type": "code",
   "execution_count": 2,
   "id": "86a66958-7e68-4d61-ae7f-7defb7cb3e7e",
   "metadata": {},
   "outputs": [],
   "source": [
    "import torch\n",
    "import efficient_whisper as whisper"
   ]
  },
  {
   "cell_type": "code",
   "execution_count": 3,
   "id": "f0829855-2fa1-45fd-a6f0-a86cb3053bcc",
   "metadata": {},
   "outputs": [],
   "source": [
    "checkpoint = torch.load('/home/ubuntu/.cache/whisper/large.pt', map_location='cpu')\n",
    "dims = whisper.model.ModelDimensions(**checkpoint[\"dims\"])\n",
    "dims.n_audio_ctx = 500  # 10s\n",
    "\n",
    "model = whisper.model.Whisper(dims)\n",
    "for k, p in model.state_dict().items():\n",
    "    p.copy_(checkpoint[\"model_state_dict\"][k])\n",
    "\n",
    "model.encoder = torch.jit.script(model.encoder)\n",
    "model.decoder = torch.jit.script(model.decoder)\n",
    "_ = model.half()\n",
    "_ = model.cuda()"
   ]
  },
  {
   "cell_type": "code",
   "execution_count": 5,
   "id": "8766750c-01fe-4515-8ffa-ae408ecd15b5",
   "metadata": {},
   "outputs": [
    {
     "name": "stdout",
     "output_type": "stream",
     "text": [
      "[00:00.000 --> 00:10.000] 予想外の事態に電力会社がちょっぴり手を巻く気味が\n",
      "[00:00.000 --> 00:10.000] 町域にあった峰山藩は、長岡藩に米100票を送ったことで有名。\n",
      "[00:00.000 --> 00:10.000] 週末友達と山に登ります。\n",
      "[00:00.000 --> 00:10.000] 後で図書館へ本を返しに行きます。\n",
      "[00:00.000 --> 00:10.000] 55歳だって嬉しい時が嬉しいのだ\n",
      "[00:00.000 --> 00:10.000] 私はパンもご飯も好きです。\n",
      "[00:00.000 --> 00:10.000] デパートやスーパーで買い物をします。\n",
      "[00:00.000 --> 00:10.000] 用紙に書いてある番号を覚えます。\n",
      "[00:00.000 --> 00:10.000] 明日、友達と映画を見に行きます。\n",
      "[00:00.000 --> 00:10.000] あの男の人は背が高くて足が長いです。\n",
      "CPU times: user 20.3 s, sys: 3.61 ms, total: 20.3 s\n",
      "Wall time: 6.77 s\n"
     ]
    }
   ],
   "source": [
    "%%time\n",
    "\n",
    "for audio_data in audio_data_list:\n",
    "    result = model.transcribe(\n",
    "        audio_data,\n",
    "        verbose=True,\n",
    "        language='japanese',\n",
    "        beam_size=5,\n",
    "        fp16=True,\n",
    "        without_timestamps=True\n",
    "    )"
   ]
  },
  {
   "cell_type": "code",
   "execution_count": null,
   "id": "b83a4a26-5d28-4403-88c7-0415d9775ca0",
   "metadata": {},
   "outputs": [],
   "source": []
  }
 ],
 "metadata": {
  "kernelspec": {
   "display_name": "Python 3 (ipykernel)",
   "language": "python",
   "name": "python3"
  },
  "language_info": {
   "codemirror_mode": {
    "name": "ipython",
    "version": 3
   },
   "file_extension": ".py",
   "mimetype": "text/x-python",
   "name": "python",
   "nbconvert_exporter": "python",
   "pygments_lexer": "ipython3",
   "version": "3.8.6"
  }
 },
 "nbformat": 4,
 "nbformat_minor": 5
}
